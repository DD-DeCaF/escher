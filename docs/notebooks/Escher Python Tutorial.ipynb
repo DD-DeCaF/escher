{
 "cells": [
  {
   "cell_type": "code",
   "execution_count": 10,
   "metadata": {},
   "outputs": [],
   "source": [
    "import escher\n",
    "from escher import Builder\n",
    "import cobra"
   ]
  },
  {
   "cell_type": "markdown",
   "metadata": {},
   "source": [
    "# Escher map"
   ]
  },
  {
   "cell_type": "code",
   "execution_count": 2,
   "metadata": {},
   "outputs": [
    {
     "name": "stdout",
     "output_type": "stream",
     "text": [
      "Downloading Model from https://escher.github.io/1-0-0/5/models/Escherichia%20coli/e_coli_core.json\n"
     ]
    }
   ],
   "source": [
    "builder = Builder(\n",
    "    height=600, \n",
    "    map_name=None, \n",
    "    model_name='e_coli_core',\n",
    "    map_json='https://escher.github.io/1-0-0/5/maps/Escherichia%20coli/e_coli_core.Core%20metabolism.json',\n",
    ")"
   ]
  },
  {
   "cell_type": "code",
   "execution_count": 3,
   "metadata": {},
   "outputs": [
    {
     "data": {
      "application/vnd.jupyter.widget-view+json": {
       "model_id": "a37ca05c1d0348de93a29f92ba82bf86",
       "version_major": 2,
       "version_minor": 0
      },
      "text/html": [
       "<p>Failed to display Jupyter Widget of type <code>Builder</code>.</p>\n",
       "<p>\n",
       "  If you're reading this message in the Jupyter Notebook or JupyterLab Notebook, it may mean\n",
       "  that the widgets JavaScript is still loading. If this message persists, it\n",
       "  likely means that the widgets JavaScript library is either not installed or\n",
       "  not enabled. See the <a href=\"https://ipywidgets.readthedocs.io/en/stable/user_install.html\">Jupyter\n",
       "  Widgets Documentation</a> for setup instructions.\n",
       "</p>\n",
       "<p>\n",
       "  If you're reading this message in another frontend (for example, a static\n",
       "  rendering on GitHub or <a href=\"https://nbviewer.jupyter.org/\">NBViewer</a>),\n",
       "  it may mean that your frontend doesn't currently support widgets.\n",
       "</p>\n"
      ],
      "text/plain": [
       "Builder(height=600)"
      ]
     },
     "metadata": {},
     "output_type": "display_data"
    }
   ],
   "source": [
    "builder"
   ]
  },
  {
   "cell_type": "markdown",
   "metadata": {},
   "source": [
    "# Using options"
   ]
  },
  {
   "cell_type": "code",
   "execution_count": 11,
   "metadata": {},
   "outputs": [],
   "source": [
    "builder.metabolite_data = {'ac_c': -100, 'nadph_c': 200}\n",
    "\n",
    "builder.disabled_buttons\n",
    "\n",
    "builder.scroll_behavior = 'none'\n",
    "\n",
    "builder.reaction_styles = ['color', 'size', 'text']\n",
    "\n",
    "builder.metabolite_scale\n",
    "\n",
    "builder.use_3d_transform = False\n",
    "\n",
    "builder.metabolite_no_data_size = 0\n",
    "\n",
    "builder.hide_secondary_metabolites"
   ]
  },
  {
   "cell_type": "markdown",
   "metadata": {},
   "source": [
    "# Generate JSON models in COBRApy"
   ]
  },
  {
   "cell_type": "markdown",
   "metadata": {},
   "source": [
    "In COBRApy version 0.3.0b4 and later, you can generate JSON files for COBRA models, and these files are compatible with Escher. See the example below.\n",
    "\n",
    "JSON models for Escher are also available in the BiGG Database: http://bigg.ucsd.edu"
   ]
  },
  {
   "cell_type": "code",
   "execution_count": 6,
   "metadata": {},
   "outputs": [
    {
     "name": "stdout",
     "output_type": "stream",
     "text": [
      "--2019-06-04 14:18:52--  http://bigg.ucsd.edu/static/models/iJO1366.xml\n",
      "Resolving bigg.ucsd.edu... 169.228.33.117\n",
      "Connecting to bigg.ucsd.edu|169.228.33.117|:80... connected.\n",
      "HTTP request sent, awaiting response... 200 OK\n",
      "Length: 9164172 (8.7M) [application/xml]\n",
      "Saving to: ‘iJO1366.xml’\n",
      "\n",
      "iJO1366.xml         100%[===================>]   8.74M  --.-KB/s    in 0.1s    \n",
      "\n",
      "2019-06-04 14:18:52 (74.7 MB/s) - ‘iJO1366.xml’ saved [9164172/9164172]\n",
      "\n",
      "--2019-06-04 14:19:02--  http://bigg.ucsd.edu/static/models/iJO1366.json\n",
      "Resolving bigg.ucsd.edu... 169.228.33.117\n",
      "Connecting to bigg.ucsd.edu|169.228.33.117|:80... connected.\n",
      "HTTP request sent, awaiting response... 200 OK\n",
      "Length: 1240620 (1.2M) [application/json]\n",
      "Saving to: ‘iJO1366.json.1’\n",
      "\n",
      "iJO1366.json.1      100%[===================>]   1.18M  --.-KB/s    in 0.04s   \n",
      "\n",
      "2019-06-04 14:19:02 (31.2 MB/s) - ‘iJO1366.json.1’ saved [1240620/1240620]\n",
      "\n"
     ]
    }
   ],
   "source": [
    "import cobra\n",
    "\n",
    "# Start with any SBML models\n",
    "!wget http://bigg.ucsd.edu/static/models/iJO1366.xml\n",
    "\n",
    "# Load a cobra model from anywhere you like\n",
    "model = cobra.io.read_sbml_model('iJO1366.xml')\n",
    "\n",
    "# generate a json file to load into Escher\n",
    "cobra.io.save_json_model(model, 'iJO1366.json')\n",
    "\n",
    "# JSON models are also available directly from BiGG Models\n",
    "!wget http://bigg.ucsd.edu/static/models/iJO1366.json"
   ]
  },
  {
   "cell_type": "code",
   "execution_count": 8,
   "metadata": {},
   "outputs": [],
   "source": [
    "# Embed an Escher map in an IPython notebook"
   ]
  },
  {
   "cell_type": "code",
   "execution_count": 9,
   "metadata": {},
   "outputs": [
    {
     "ename": "NameError",
     "evalue": "name 'escher' is not defined",
     "output_type": "error",
     "traceback": [
      "\u001b[0;31m---------------------------------------------------------------------------\u001b[0m",
      "\u001b[0;31mNameError\u001b[0m                                 Traceback (most recent call last)",
      "\u001b[0;32m<ipython-input-9-500138199eba>\u001b[0m in \u001b[0;36m<module>\u001b[0;34m\u001b[0m\n\u001b[0;32m----> 1\u001b[0;31m \u001b[0mescher\u001b[0m\u001b[0;34m.\u001b[0m\u001b[0mlist_available_maps\u001b[0m\u001b[0;34m(\u001b[0m\u001b[0;34m)\u001b[0m\u001b[0;34m\u001b[0m\u001b[0m\n\u001b[0m\u001b[1;32m      2\u001b[0m \u001b[0;34m\u001b[0m\u001b[0m\n\u001b[1;32m      3\u001b[0m \u001b[0mb\u001b[0m \u001b[0;34m=\u001b[0m \u001b[0mescher\u001b[0m\u001b[0;34m.\u001b[0m\u001b[0mBuilder\u001b[0m\u001b[0;34m(\u001b[0m\u001b[0mmap_name\u001b[0m\u001b[0;34m=\u001b[0m\u001b[0;34m'e_coli_core.Core metabolism'\u001b[0m\u001b[0;34m)\u001b[0m\u001b[0;34m\u001b[0m\u001b[0m\n\u001b[1;32m      4\u001b[0m \u001b[0mb\u001b[0m\u001b[0;34m.\u001b[0m\u001b[0mdisplay_in_notebook\u001b[0m\u001b[0;34m(\u001b[0m\u001b[0;34m)\u001b[0m\u001b[0;34m\u001b[0m\u001b[0m\n\u001b[1;32m      5\u001b[0m \u001b[0;34m\u001b[0m\u001b[0m\n",
      "\u001b[0;31mNameError\u001b[0m: name 'escher' is not defined"
     ]
    }
   ],
   "source": [
    "escher.list_available_maps()\n",
    "\n",
    "b = escher.Builder(map_name='e_coli_core.Core metabolism')\n",
    "b.display_in_notebook()\n",
    "\n",
    "### Plot FBA solutions in Escher\n",
    "\n",
    "model = cobra.io.json.from_json(escher.plots.model_json_for_name('e_coli_core'))\n",
    "solution = model.optimize()\n",
    "print('Growth rate: %.2f' % solution.f)"
   ]
  },
  {
   "cell_type": "code",
   "execution_count": null,
   "metadata": {},
   "outputs": [],
   "source": []
  }
 ],
 "metadata": {
  "kernelspec": {
   "display_name": "Python 3",
   "language": "python",
   "name": "python3"
  },
  "language_info": {
   "codemirror_mode": {
    "name": "ipython",
    "version": 3
   },
   "file_extension": ".py",
   "mimetype": "text/x-python",
   "name": "python",
   "nbconvert_exporter": "python",
   "pygments_lexer": "ipython3",
   "version": "3.6.5"
  }
 },
 "nbformat": 4,
 "nbformat_minor": 2
}
